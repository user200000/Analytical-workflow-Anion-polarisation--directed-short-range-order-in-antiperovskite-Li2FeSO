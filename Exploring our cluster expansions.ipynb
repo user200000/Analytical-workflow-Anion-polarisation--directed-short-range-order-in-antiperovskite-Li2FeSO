{
 "cells": [
  {
   "cell_type": "markdown",
   "id": "b8211e04",
   "metadata": {},
   "source": [
    "# Exploring our cluster expansions"
   ]
  },
  {
   "cell_type": "markdown",
   "id": "2d005977",
   "metadata": {},
   "source": [
    "Here we will explore the forms of our cluster expansions in particular the energies associated with certain terms. The plotting in this book provides a degree of information regarding the non zero terms in the cluster expansion. We note as in the main paper that there are no non-zero four body clusters in the "
   ]
  },
  {
   "cell_type": "code",
   "execution_count": 1,
   "id": "406eccc4",
   "metadata": {},
   "outputs": [
    {
     "name": "stderr",
     "output_type": "stream",
     "text": [
      "/Users/swc57/miniconda3/envs/p3p7/lib/python3.7/site-packages/ipykernel_launcher.py:3: MatplotlibDeprecationWarning: \n",
      "The mpl_toolkits.axes_grid module was deprecated in Matplotlib 2.1 and will be removed two minor releases later. Use mpl_toolkits.axes_grid1 and mpl_toolkits.axisartist, which provide the same functionality instead.\n",
      "  This is separate from the ipykernel package so we can avoid doing imports until\n"
     ]
    }
   ],
   "source": [
    "import numpy as np\n",
    "import matplotlib.pyplot as plt\n",
    "from mpl_toolkits.axes_grid.inset_locator import (inset_axes, InsetPosition,\n",
    "                                                  mark_inset)\n",
    "import matplotlib as mpl\n",
    "mpl.rcParams['pdf.fonttype'] = 42\n",
    "mpl.rcParams['ps.fonttype'] = 42\n",
    "mpl.rcParams.update({\n",
    "    \"pdf.use14corefonts\": True\n",
    "})\n",
    "from matplotlib import rc\n",
    "#rc('font', family='Helvetica Neue')\n",
    "from matplotlib import ticker\n",
    "from icet import ClusterExpansion"
   ]
  },
  {
   "cell_type": "markdown",
   "id": "1c84d50e",
   "metadata": {},
   "source": [
    "## DFT cluster expansion"
   ]
  },
  {
   "cell_type": "code",
   "execution_count": null,
   "id": "a492d5e5",
   "metadata": {},
   "outputs": [],
   "source": [
    "ce = ClusterExpansion.read(\"fitting/Sulfur/Li2FeSO.ce\")\n",
    "df_ecis = ce.to_dataframe()"
   ]
  },
  {
   "cell_type": "markdown",
   "id": "e2ac6681",
   "metadata": {},
   "source": [
    "For both cluster expansions we plot the madnitude of the ECIs of interest alongside their radius, the position of clusters for which the eci is set as zero is shown in orange."
   ]
  },
  {
   "cell_type": "code",
   "execution_count": null,
   "id": "b33324a1",
   "metadata": {},
   "outputs": [],
   "source": [
    "fig, axs = plt.subplots(1, 3, sharey=True, figsize=(15, 3))\n",
    "for k, order in enumerate(ce.orders):\n",
    "    df_order = df_ecis.loc[df_ecis['order'] == order]\n",
    "    if k < 2 or k > 4:\n",
    "        continue\n",
    "    ax = axs[k - 2]\n",
    "    ax.set_ylim((-2, 6))\n",
    "    ax.set_xlabel(r'Cluster radius (Å)')\n",
    "    if order == 2:\n",
    "        ax.set_xlim((1.2, 9))\n",
    "        ax.set_ylabel(r'Effective cluster interaction (meV)')\n",
    "    if order == 3:\n",
    "        ax.set_xlim((1.5, 8))\n",
    "    if order == 4:\n",
    "        ax.set_xlim((1.5, 5))\n",
    "        ax.text(0.05, 0.55, 'zerolet: {:.1f} meV'\n",
    "                .format(1e3 * df_ecis.eci.iloc[0]),\n",
    "                transform=ax.transAxes)\n",
    "        ax.text(0.05, 0.45, 'singlet: {:.1f} meV'\n",
    "                .format(1e3 * df_ecis.eci.iloc[1]),\n",
    "                transform=ax.transAxes)\n",
    "    ax.plot([0, 10], [0, 0], color='black')\n",
    "    ax.bar(df_order.radius, 1e3 * df_order.eci, width=0.05)\n",
    "    ax.scatter(df_order.radius, len(df_order) * [-0.7],\n",
    "               marker='o', s=2.0)\n",
    "    ax.text(0.05, 0.91, 'order: {}'.format(order),\n",
    "            transform=ax.transAxes)\n",
    "    ax.text(0.05, 0.81, 'number of parameters: {}'.format(len(df_order)),\n",
    "            transform=ax.transAxes,)\n",
    "    ax.text(0.05, 0.71, 'number of non-zero params: {}'\n",
    "            .format(np.count_nonzero(df_order.eci)),\n",
    "            transform=ax.transAxes,)"
   ]
  },
  {
   "cell_type": "markdown",
   "id": "9acbe49b",
   "metadata": {},
   "source": [
    "These plots show as expected the cluster expansion is dominated by pairs, with terms generally declining with distance. There are no non zero 4 body terms though they were included in the fitting procedure. "
   ]
  },
  {
   "cell_type": "code",
   "execution_count": null,
   "id": "f3d90ff7",
   "metadata": {},
   "outputs": [],
   "source": [
    "np.savetxt('DFT_2_body.csv',np.transpose([df_ecis.radius[(df_ecis['order'] == 2)*df_ecis.eci!=0], 1e3 * df_ecis.eci[(df_ecis['order'] == 2)*df_ecis.eci!=0]]))\n",
    "np.savetxt('DFT_3_body.csv',np.transpose([df_ecis.radius[(df_ecis['order'] == 3)*df_ecis.eci!=0], 1e3 * df_ecis.eci[(df_ecis['order'] == 3)*df_ecis.eci!=0]]))"
   ]
  },
  {
   "cell_type": "markdown",
   "id": "bf16f280",
   "metadata": {},
   "source": [
    "## Ewald cluster expansion"
   ]
  },
  {
   "cell_type": "code",
   "execution_count": null,
   "id": "7c5d8a58",
   "metadata": {},
   "outputs": [],
   "source": [
    "ce = ClusterExpansion.read(\"fitting/Coulomb/Ewald.ce\")\n",
    "df_ecis = ce.to_dataframe()"
   ]
  },
  {
   "cell_type": "code",
   "execution_count": null,
   "id": "c0acd22e",
   "metadata": {},
   "outputs": [],
   "source": [
    "fig, axs = plt.subplots(1, 3, sharey=True, figsize=(15, 3))\n",
    "for k, order in enumerate(ce.orders):\n",
    "    df_order = df_ecis.loc[df_ecis['order'] == order]\n",
    "    if k < 2 or k > 4:\n",
    "        continue\n",
    "    ax = axs[k - 2]\n",
    "    ax.set_ylim((-4, 6))\n",
    "    ax.set_xlabel(r'Cluster radius (Å)')\n",
    "    if order == 2:\n",
    "        ax.set_xlim((1.2, 9))\n",
    "        ax.set_ylabel(r'Effective cluster interaction (meV)')\n",
    "    if order == 3:\n",
    "        ax.set_xlim((1.5, 8))\n",
    "    if order == 4:\n",
    "        ax.set_xlim((1.5, 5))\n",
    "        ax.text(0.05, 0.55, 'zerolet: {:.1f} meV'\n",
    "                .format(1e3 * df_ecis.eci.iloc[0]),\n",
    "                transform=ax.transAxes)\n",
    "        ax.text(0.05, 0.45, 'singlet: {:.1f} meV'\n",
    "                .format(1e3 * df_ecis.eci.iloc[1]),\n",
    "                transform=ax.transAxes)\n",
    "    ax.plot([0, 10], [0, 0], color='black')\n",
    "    ax.bar(df_order.radius, 1e3 * df_order.eci, width=0.05)\n",
    "    ax.scatter(df_order.radius, len(df_order) * [-0.7],\n",
    "               marker='o', s=2.0)\n",
    "    ax.text(0.05, 0.91, 'order: {}'.format(order),\n",
    "            transform=ax.transAxes)\n",
    "    ax.text(0.05, 0.81, 'number of parameters: {}'.format(len(df_order)),\n",
    "            transform=ax.transAxes,)\n",
    "    ax.text(0.05, 0.71, 'number of non-zero params: {}'\n",
    "            .format(np.count_nonzero(df_order.eci)),\n",
    "            transform=ax.transAxes,)"
   ]
  },
  {
   "cell_type": "markdown",
   "id": "301a07b7",
   "metadata": {},
   "source": [
    "The ewald cluster expansion is totaly dominated by pairs, this makes sense as electrostatic energies are readily decomposable to pairwise terms and with no off lattice distortions there will be no effect of three or four body terms."
   ]
  },
  {
   "cell_type": "code",
   "execution_count": null,
   "id": "c8466e8e",
   "metadata": {},
   "outputs": [],
   "source": [
    "np.savetxt('EW_2_body.csv',np.transpose([df_ecis.radius[(df_ecis['order'] == 2)*df_ecis.eci!=0], 1e3 * df_ecis.eci[(df_ecis['order'] == 2)*df_ecis.eci!=0]]))\n",
    "np.savetxt('EW_3_body.csv',np.transpose([df_ecis.radius[(df_ecis['order'] == 3)*df_ecis.eci!=0], 1e3 * df_ecis.eci[(df_ecis['order'] == 3)*df_ecis.eci!=0]]))"
   ]
  }
 ],
 "metadata": {
  "kernelspec": {
   "display_name": "Python 3 (ipykernel)",
   "language": "python",
   "name": "python3"
  },
  "language_info": {
   "codemirror_mode": {
    "name": "ipython",
    "version": 3
   },
   "file_extension": ".py",
   "mimetype": "text/x-python",
   "name": "python",
   "nbconvert_exporter": "python",
   "pygments_lexer": "ipython3",
   "version": "3.7.13"
  }
 },
 "nbformat": 4,
 "nbformat_minor": 5
}
